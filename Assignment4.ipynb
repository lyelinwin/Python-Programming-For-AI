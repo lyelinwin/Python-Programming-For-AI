{
 "cells": [
  {
   "cell_type": "markdown",
   "id": "59195215-c957-4b95-8d0c-31b8461456c5",
   "metadata": {},
   "source": [
    "# CSCI 513.01W – Python Programming for AI\n",
    "## Assignment 4 - NumPy"
   ]
  },
  {
   "cell_type": "markdown",
   "id": "0d27ddff-5ad3-404f-aef6-e9553c211bdd",
   "metadata": {},
   "source": [
    "## Exercise I\n",
    "\n",
    "Create an array called prices of 50 random float numbers between 0 and 100 (inclusive)."
   ]
  },
  {
   "cell_type": "code",
   "execution_count": 67,
   "id": "9eb952e1-b59c-414e-b4b9-fe7a88d032b5",
   "metadata": {},
   "outputs": [
    {
     "name": "stdout",
     "output_type": "stream",
     "text": [
      "[68 84 56 13 55 45 98  2 42 58 68 55 32 36 90 81  2 42 97  8 43 85 51 29\n",
      " 78 27 34 15 62  0 69 52 37 99 88 96 13 13 37 22 25 55 29 17 38 96 76 79\n",
      " 11 58]\n",
      "[0.36527602 0.67735053 0.26475875 0.97983765 0.55006717 0.01743548\n",
      " 0.62459805 0.22624872 0.47604426 0.55146221 0.56087226 0.36900841\n",
      " 0.23863672 0.52342365 0.89607338 0.9454461  0.26979457 0.29058174\n",
      " 0.13220978 0.79580354 0.5881784  0.77347068 0.33387661 0.96265076\n",
      " 0.34732802 0.09826086 0.74232339 0.95765172 0.77578535 0.18715396\n",
      " 0.23815106 0.64290929 0.93013638 0.17733469 0.00224873 0.00207409\n",
      " 0.53634787 0.09906552 0.28424114 0.48352484 0.21879908 0.01876884\n",
      " 0.82328814 0.0964693  0.32615866 0.08636867 0.46225661 0.09494839\n",
      " 0.93889761 0.41702363]\n"
     ]
    }
   ],
   "source": [
    "import numpy as np\n",
    "\n",
    "prices_int = np.random.randint(0, 101, 50)\n",
    "print(prices_int)\n",
    "prices_float = np.random.random([50])\n",
    "print(prices_float)"
   ]
  },
  {
   "cell_type": "markdown",
   "id": "2e95cb8a-7fda-4fc0-8f3f-bbcb4d5a153f",
   "metadata": {},
   "source": [
    "## Exercise II\n",
    "- Create a NumPy array called ages. This array should have 15 random ages between 5 and 25 (inclusive)\n",
    "- Create a NumPy array called ages2. The values in ages2 should be double the ones in ages."
   ]
  },
  {
   "cell_type": "code",
   "execution_count": 68,
   "id": "6267b5ac-db99-420d-a232-0cd02d9745fa",
   "metadata": {},
   "outputs": [
    {
     "name": "stdout",
     "output_type": "stream",
     "text": [
      "[ 7 16 11  8 17 21 15 17 15  5 25 23 17 22  6]\n",
      "[14 32 22 16 34 42 30 34 30 10 50 46 34 44 12]\n"
     ]
    }
   ],
   "source": [
    "import numpy as np\n",
    "\n",
    "ages = np.random.randint(5, 26, 15)\n",
    "print(ages)\n",
    "ages2 = ages * 2\n",
    "print(ages2)"
   ]
  },
  {
   "cell_type": "markdown",
   "id": "5b9abe6e-0503-4f9c-854b-7cffac8d8bdb",
   "metadata": {},
   "source": [
    "## Exercise III\n",
    "\n",
    "To make ages2 a little bit more realistic, insert a little random noise into each element of the array you created. To be more precise, modify each value assigned to ages2 by adding a different random floating-point value between -2 and +2."
   ]
  },
  {
   "cell_type": "code",
   "execution_count": 69,
   "id": "7c5cdef9-4521-487c-91b9-193ba4fb072d",
   "metadata": {},
   "outputs": [
    {
     "name": "stdout",
     "output_type": "stream",
     "text": [
      "age double: [14 32 22 16 34 42 30 34 30 10 50 46 34 44 12]\n",
      "noise: [-2  1 -2  1  1 -1  1  1  0 -2  1  1 -1  0  1]\n",
      "Age with noise: [12 33 20 17 35 41 31 35 30  8 51 47 33 44 13]\n"
     ]
    }
   ],
   "source": [
    "import numpy as np \n",
    "\n",
    "ages2 = ages * 2\n",
    "print('age double:', ages2)\n",
    "\n",
    "noise = np.random.randint(-2, +2, 15)\n",
    "print('noise:', noise)\n",
    "\n",
    "ages2_mod = ages2 + noise\n",
    "print('Age with noise:', ages2_mod)"
   ]
  },
  {
   "cell_type": "markdown",
   "id": "94b44c93-270a-42bb-ad11-5fe509f2a666",
   "metadata": {},
   "source": [
    "# Exercise IV\n",
    "Suppose we have two numpy arrays that represent the price of the same items from different stores:\n",
    "\n",
    "store1 = np.array([29, 4, 2, 30, 15, 48, 63, 32, 53, 70, 47, 19, 24])\n",
    "\n",
    "store2 = np.array([23, 2, 12, 32, 25, 47, 53, 39, 63, 71, 47, 18, 21])\n",
    "\n",
    "Create a new array where we take the value from store1 whenever the corresponding value in cond is True, otherwise we take the value from store2.\n",
    "\n",
    "cond = np.array([False, True, False, False, False, True, False, False, True, True, False, False, True])"
   ]
  },
  {
   "cell_type": "code",
   "execution_count": 70,
   "id": "4c406be0-d127-42bf-9eba-d7cdedca2f70",
   "metadata": {},
   "outputs": [],
   "source": [
    "store1 = np.array([29, 4, 2, 30, 15, 48, 63, 32, 53, 70, 47, 19, 24])\n",
    "\n",
    "store2 = np.array([23, 2, 12, 32, 25, 47, 53, 39, 63, 71, 47, 18, 21])\n",
    "\n",
    "cond = np.array([False, True, False, False, False, True, False, False, True, True, False, False, True])\n",
    "\n",
    "combo_prices = np.array([cond, store1, store2])"
   ]
  },
  {
   "cell_type": "markdown",
   "id": "c624a62f-2fdc-4788-8da8-99e28d00ce3f",
   "metadata": {},
   "source": [
    "# Exercise V\n",
    "\n",
    "Solve Exercise IV using numpy where function."
   ]
  },
  {
   "cell_type": "code",
   "execution_count": 71,
   "id": "f90fb3e4-bf39-404e-bc18-ddd1fe595979",
   "metadata": {},
   "outputs": [
    {
     "name": "stdout",
     "output_type": "stream",
     "text": [
      "[23  4 12 32 25 48 53 39 53 70 47 18 24]\n"
     ]
    }
   ],
   "source": [
    "combo_prices = np.where(cond, store1, store2)\n",
    "print(combo_prices)"
   ]
  },
  {
   "cell_type": "markdown",
   "id": "301c158a-c88c-499e-a786-22bb9a6dcbe8",
   "metadata": {},
   "source": [
    "# Exercise VI\n",
    "\n",
    "Suppose we have the scores from players playing an arcade game:\n",
    "\n",
    "scores = np.random.randint(low=0, high=70, size=[2000])\n",
    "\n",
    "1. Retrieve the scores that are greater than 20.\n",
    "2. Retrieve the scores that are not 30.\n",
    "3. Retrieve the average score.\n",
    "4. Retrieve the minimum score.\n",
    "5. Retrieve the maximum score."
   ]
  },
  {
   "cell_type": "code",
   "execution_count": 72,
   "id": "735595ec-231a-4198-a047-e69e269c82e1",
   "metadata": {},
   "outputs": [
    {
     "name": "stdout",
     "output_type": "stream",
     "text": [
      "score > 20: [33 57 63 ... 23 53 42]\n",
      "score not 30: [ True  True  True ...  True  True  True]\n",
      "average: 35.324\n",
      "minimum score: 0\n",
      "maximum score: 69\n"
     ]
    }
   ],
   "source": [
    "scores = np.random.randint(0, 70, [2000])\n",
    "print('score > 20:', scores[scores>20])\n",
    "\n",
    "print('score not 30:', scores != 30)\n",
    "\n",
    "average = np.mean(scores)\n",
    "print('average:', average)\n",
    "\n",
    "min_value = min(scores)\n",
    "print('minimum score:', min_value)\n",
    "\n",
    "max_value = max(scores)\n",
    "print('maximum score:', max_value)"
   ]
  },
  {
   "cell_type": "code",
   "execution_count": null,
   "id": "e598cfe8",
   "metadata": {},
   "outputs": [],
   "source": []
  }
 ],
 "metadata": {
  "kernelspec": {
   "display_name": "Python 3 (ipykernel)",
   "language": "python",
   "name": "python3"
  },
  "language_info": {
   "codemirror_mode": {
    "name": "ipython",
    "version": 3
   },
   "file_extension": ".py",
   "mimetype": "text/x-python",
   "name": "python",
   "nbconvert_exporter": "python",
   "pygments_lexer": "ipython3",
   "version": "3.11.4"
  }
 },
 "nbformat": 4,
 "nbformat_minor": 5
}
