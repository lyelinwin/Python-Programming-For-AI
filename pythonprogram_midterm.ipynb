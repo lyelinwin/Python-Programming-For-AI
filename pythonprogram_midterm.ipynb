{
 "cells": [
  {
   "cell_type": "code",
   "execution_count": null,
   "id": "31155421",
   "metadata": {},
   "outputs": [],
   "source": [
    "# (1A) List all the people that were traveling to Minneapolis?\n",
    "import pandas as pd\n",
    "\n",
    "minne = df[(df[\"dest\"] == \"Minnieapolis, MN\") & (df[\"name\"])]\n",
    "print(\"People traveling to Minneapolis are: \", minne)"
   ]
  },
  {
   "cell_type": "code",
   "execution_count": null,
   "id": "6c41bc26",
   "metadata": {},
   "outputs": [],
   "source": [
    "# (1B) Which fare was bought the most?\n",
    "df[\"fare\"].value_counts()\n",
    "\n",
    "#mode is most occuring\n",
    "most = df[\"fare\"].mode()[0]\n",
    "print(\"Fare bought the most: \", most)"
   ]
  },
  {
   "cell_type": "code",
   "execution_count": null,
   "id": "85b6fe36",
   "metadata": {},
   "outputs": [],
   "source": [
    "# (1C) What is the highest paid fare?\n",
    "#max is the highest \n",
    "highest = df[\"fare\"].max()\n",
    "print(\"Highest paid fare: \", highest)"
   ]
  },
  {
   "cell_type": "code",
   "execution_count": null,
   "id": "261bd0ca",
   "metadata": {},
   "outputs": [],
   "source": [
    "# (1D) List all the females that survived the crash.\n",
    "fem_surv = df[(df[\"sex\"] == \"female\") & (df[\"survived\"] == 1)]\n",
    "print(\"The females that survived the crash are: \", fem_surv)"
   ]
  },
  {
   "cell_type": "code",
   "execution_count": null,
   "id": "d14056d5",
   "metadata": {},
   "outputs": [],
   "source": [
    "# (1E) List all the survivors that did not have cabin information.\n",
    "cabin = df[df([\"survivors\"] == 1) & (df[\"cabin\"] == \"?\")]\n",
    "print(\"Survivors that did not have a cabin information are: \", cabin)"
   ]
  },
  {
   "cell_type": "code",
   "execution_count": null,
   "id": "ad19d161",
   "metadata": {},
   "outputs": [],
   "source": [
    "# (1F) Display the number of survivors and non-survivors for each passenger class.\n",
    "num_class = df[df([\"pclass\"] & df[df([\"survived\"].value_counts())]\n",
    "print(\"Number of survivors and non-survivors for each apssenger class: \", num_class)"
   ]
  },
  {
   "cell_type": "code",
   "execution_count": 1,
   "id": "fe584018",
   "metadata": {},
   "outputs": [
    {
     "name": "stdout",
     "output_type": "stream",
     "text": [
      "['O. Welles', 'M. Scoreses', 'S. Spielberg', 'A. Hitchcock', 'S. Kubrick']\n"
     ]
    }
   ],
   "source": [
    "# (2) Given the following list of strings, write a loop that goes thorugh each string and cleans it/\n",
    "#original stored strings \n",
    "names = ['Orson Welles', 'Martin     Scoreses', 'Steven Spielberg      ', 'Alfred Hitchcock', 'Stanley Kubrick']\n",
    "\n",
    "#new list of strings stored\n",
    "lClean = []\n",
    "\n",
    "# for loop for each name\n",
    "for name in names: \n",
    "    # strip to remove space within names \n",
    "    strip = name.strip()\n",
    "    # return list of words to help break it down\n",
    "    split = strip.split()\n",
    "    # breaking first & last name\n",
    "    # 0 is the 1st item & 1 is the last \n",
    "    first = split[0]\n",
    "    last = split[1]\n",
    "    # breaking first name in finding position 0\n",
    "    initial = first[0]\n",
    "    #combining strings & adding . together \n",
    "    in_last = initial + \". \" + last\n",
    "    # making sure everything addes to the new list\n",
    "    lClean.append(in_last)\n",
    "print(lClean)"
   ]
  },
  {
   "cell_type": "code",
   "execution_count": 2,
   "id": "f2f8cf75",
   "metadata": {},
   "outputs": [
    {
     "name": "stdout",
     "output_type": "stream",
     "text": [
      "{'up': 1, 'the': 5, 'trunk': 1, 'to': 1, 'nest': 1, 'where': 1, 'little': 1, 'egg': 2, 'slept': 1, '': 10, 'then': 1, 'horton': 1, 'elephant': 1, 'smiled': 1, 'and': 8, 'he': 7, 'sat': 6, 'all': 2, 'that': 2, 'day': 1, 'kept': 1, 'warm': 1, 'night': 1, 'through': 1, 'a': 1, 'terrible': 1, 'storm': 1, 'it': 4, 'poured': 1, 'lightninged': 1, 'thundered': 1, 'rumbled': 1}\n"
     ]
    }
   ],
   "source": [
    "# (3) Given the following string value s. Write Python code that creates a dictionary out of s. The dictionary keys will be all the distinct words in s while the values represent the number of times a word appeared in s.\n",
    "\n",
    "# given string\n",
    "s = 'Up the trunk to the nest where the little egg slept . Then Horton the elephant smiled . And he sat . And he sat . And he sat . And he sat . And he sat all that day And he kept the egg warm . And he sat all that night through a terrible storm. It poured and it lightninged ! It thundered ! It rumbled !'\n",
    "\n",
    "# empty dictionary \n",
    "counting = {}\n",
    "\n",
    "#makes words into lists individual\n",
    "word_list = s.split()\n",
    "\n",
    "# for loop for each word\n",
    "for word in word_list:\n",
    "    # removes '.!' and make all words lowercase \n",
    "    only_words = word.strip('.!').lower()\n",
    "    \n",
    "    #if statement to help counting\n",
    "    if only_words in counting:\n",
    "        counting[only_words] += 1\n",
    "    else:\n",
    "        counting[only_words] = 1\n",
    "print(counting)"
   ]
  },
  {
   "cell_type": "code",
   "execution_count": 22,
   "id": "aa3de1b8",
   "metadata": {},
   "outputs": [
    {
     "name": "stdout",
     "output_type": "stream",
     "text": [
      "Enter check amount: $ 48.72\n",
      "Enter a number for percent tip: 18\n",
      "Would you like to round the tip?: yes\n",
      "Tip: $ 9\n",
      "Overall Total with tip:  57.72\n"
     ]
    }
   ],
   "source": [
    "# (4) Write a function that accepts three arguments: a resturant check, a tip percentage, and whether the tip is to be rounded or not. The function returns the tip that should be left on the table as well as the total bill. \n",
    "\n",
    "# code a function\n",
    "def total_with_tip(resturant_check, tip_percent, rounding_quest):\n",
    "    # calculating tip\n",
    "    tip = resturant_check * (tip_percent / 100)\n",
    "    \n",
    "    # rounding or no\n",
    "    if rounding_quest == \"yes\":\n",
    "        tip_rounded = round(tip)\n",
    "    return tip_rounded, rounding_quest\n",
    "\n",
    "# user input\n",
    "check_total = float(input(\"Enter check amount: $ \"))\n",
    "percent_quest = float(input(\"Enter a number for percent tip: \"))\n",
    "rounding_quest = input(\"Would you like to round the tip?: \")\n",
    "\n",
    "# using function to cycle through \n",
    "tip, total = total_with_tip(check_total, percent_quest, rounding_quest)\n",
    "\n",
    "# getting total\n",
    "total = tip + check_total\n",
    "\n",
    "#printing tip and total \n",
    "print(\"Tip: $\", tip)\n",
    "print(\"Overall Total with tip: \", total)"
   ]
  },
  {
   "cell_type": "code",
   "execution_count": 5,
   "id": "56ace7d7",
   "metadata": {},
   "outputs": [
    {
     "name": "stdout",
     "output_type": "stream",
     "text": [
      "Enter statdium level (lower/upper): upper\n",
      "Enter row number (1-55): 30\n",
      "Price for upper level with rows 26-55: $95\n"
     ]
    }
   ],
   "source": [
    "# (5) Write a program that determines the price of a ticket. The program asks the user to enter the stadium level, and the row number. The program prints out the price. The prices should be calculated as follows:\n",
    "# lower level, rows 1 to 25: $435\n",
    "# lower level, rows 26 to 55: $225\n",
    "# upper level, rows 1 to 25: $200\n",
    "# upper level, rows 26 to 55: $95\n",
    "\n",
    "# user input \n",
    "level = input(\"Enter statdium level (lower/upper): \")\n",
    "num = int(input(\"Enter row number (1-55): \"))\n",
    "\n",
    "# if statements to help with selection\n",
    "if level == \"lower\":\n",
    "    if 1 <= num <= 25:\n",
    "        print(\"Price for lower level with rows 1-25: $435\")\n",
    "    elif 26 <= num <= 55:  \n",
    "        print(\"Price for lower level with rows 26-55: $225\")\n",
    "    else:\n",
    "        print(\"Try again.\")  \n",
    "        \n",
    "elif level == \"upper\":\n",
    "    if 1 <= num <= 25:\n",
    "        print(\"Price for upper level with rows 1-25: $200\")\n",
    "    elif 26 <= num <= 55:\n",
    "        print(\"Price for upper level with rows 26-55: $95\")\n",
    "    else:\n",
    "        print(\"Try again.\")"
   ]
  },
  {
   "cell_type": "code",
   "execution_count": null,
   "id": "a08c6b3e",
   "metadata": {},
   "outputs": [],
   "source": []
  }
 ],
 "metadata": {
  "kernelspec": {
   "display_name": "Python 3 (ipykernel)",
   "language": "python",
   "name": "python3"
  },
  "language_info": {
   "codemirror_mode": {
    "name": "ipython",
    "version": 3
   },
   "file_extension": ".py",
   "mimetype": "text/x-python",
   "name": "python",
   "nbconvert_exporter": "python",
   "pygments_lexer": "ipython3",
   "version": "3.11.4"
  }
 },
 "nbformat": 4,
 "nbformat_minor": 5
}
